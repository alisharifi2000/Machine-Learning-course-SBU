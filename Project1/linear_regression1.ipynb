{
 "cells": [
  {
   "cell_type": "code",
   "execution_count": 24,
   "metadata": {},
   "outputs": [],
   "source": [
    "import numpy as np\n",
    "import pandas as pd\n",
    "import seaborn as sns \n",
    "import matplotlib.pyplot as plt\n",
    "from sklearn.datasets import load_boston\n",
    "from sklearn.model_selection import train_test_split\n",
    "from sklearn.linear_model import LinearRegression"
   ]
  },
  {
   "cell_type": "code",
   "execution_count": 25,
   "metadata": {
    "scrolled": true
   },
   "outputs": [
    {
     "data": {
      "text/html": [
       "<div>\n",
       "<style scoped>\n",
       "    .dataframe tbody tr th:only-of-type {\n",
       "        vertical-align: middle;\n",
       "    }\n",
       "\n",
       "    .dataframe tbody tr th {\n",
       "        vertical-align: top;\n",
       "    }\n",
       "\n",
       "    .dataframe thead th {\n",
       "        text-align: right;\n",
       "    }\n",
       "</style>\n",
       "<table border=\"1\" class=\"dataframe\">\n",
       "  <thead>\n",
       "    <tr style=\"text-align: right;\">\n",
       "      <th></th>\n",
       "      <th>Serial No.</th>\n",
       "      <th>GRE Score</th>\n",
       "      <th>TOEFL Score</th>\n",
       "      <th>University Rating</th>\n",
       "      <th>SOP</th>\n",
       "      <th>LOR</th>\n",
       "      <th>CGPA</th>\n",
       "      <th>Research</th>\n",
       "      <th>Chance of Admit</th>\n",
       "    </tr>\n",
       "  </thead>\n",
       "  <tbody>\n",
       "    <tr>\n",
       "      <th>0</th>\n",
       "      <td>1</td>\n",
       "      <td>337</td>\n",
       "      <td>118</td>\n",
       "      <td>4</td>\n",
       "      <td>4.5</td>\n",
       "      <td>4.5</td>\n",
       "      <td>9.65</td>\n",
       "      <td>1</td>\n",
       "      <td>0.92</td>\n",
       "    </tr>\n",
       "    <tr>\n",
       "      <th>1</th>\n",
       "      <td>2</td>\n",
       "      <td>324</td>\n",
       "      <td>107</td>\n",
       "      <td>4</td>\n",
       "      <td>4.0</td>\n",
       "      <td>4.5</td>\n",
       "      <td>8.87</td>\n",
       "      <td>1</td>\n",
       "      <td>0.76</td>\n",
       "    </tr>\n",
       "    <tr>\n",
       "      <th>2</th>\n",
       "      <td>3</td>\n",
       "      <td>316</td>\n",
       "      <td>104</td>\n",
       "      <td>3</td>\n",
       "      <td>3.0</td>\n",
       "      <td>3.5</td>\n",
       "      <td>8.00</td>\n",
       "      <td>1</td>\n",
       "      <td>0.72</td>\n",
       "    </tr>\n",
       "    <tr>\n",
       "      <th>3</th>\n",
       "      <td>4</td>\n",
       "      <td>322</td>\n",
       "      <td>110</td>\n",
       "      <td>3</td>\n",
       "      <td>3.5</td>\n",
       "      <td>2.5</td>\n",
       "      <td>8.67</td>\n",
       "      <td>1</td>\n",
       "      <td>0.80</td>\n",
       "    </tr>\n",
       "    <tr>\n",
       "      <th>4</th>\n",
       "      <td>5</td>\n",
       "      <td>314</td>\n",
       "      <td>103</td>\n",
       "      <td>2</td>\n",
       "      <td>2.0</td>\n",
       "      <td>3.0</td>\n",
       "      <td>8.21</td>\n",
       "      <td>0</td>\n",
       "      <td>0.65</td>\n",
       "    </tr>\n",
       "  </tbody>\n",
       "</table>\n",
       "</div>"
      ],
      "text/plain": [
       "   Serial No.  GRE Score  TOEFL Score  University Rating  SOP  LOR   CGPA  \\\n",
       "0           1        337          118                  4  4.5   4.5  9.65   \n",
       "1           2        324          107                  4  4.0   4.5  8.87   \n",
       "2           3        316          104                  3  3.0   3.5  8.00   \n",
       "3           4        322          110                  3  3.5   2.5  8.67   \n",
       "4           5        314          103                  2  2.0   3.0  8.21   \n",
       "\n",
       "   Research  Chance of Admit   \n",
       "0         1              0.92  \n",
       "1         1              0.76  \n",
       "2         1              0.72  \n",
       "3         1              0.80  \n",
       "4         0              0.65  "
      ]
     },
     "execution_count": 25,
     "metadata": {},
     "output_type": "execute_result"
    }
   ],
   "source": [
    "housing = pd.read_csv('datasets/Admission_Predict.csv')\n",
    "housing.head()"
   ]
  },
  {
   "cell_type": "code",
   "execution_count": 26,
   "metadata": {},
   "outputs": [
    {
     "name": "stdout",
     "output_type": "stream",
     "text": [
      "Serial No.\n",
      "GRE Score\n",
      "TOEFL Score\n",
      "University Rating\n",
      "SOP\n",
      "LOR \n",
      "CGPA\n",
      "Research\n",
      "Chance of Admit \n"
     ]
    }
   ],
   "source": [
    "for cols in housing:\n",
    "    print(cols)"
   ]
  },
  {
   "cell_type": "code",
   "execution_count": 27,
   "metadata": {},
   "outputs": [
    {
     "data": {
      "text/plain": [
       "(400, 9)"
      ]
     },
     "execution_count": 27,
     "metadata": {},
     "output_type": "execute_result"
    }
   ],
   "source": [
    "housing.shape"
   ]
  },
  {
   "cell_type": "code",
   "execution_count": 28,
   "metadata": {},
   "outputs": [],
   "source": [
    "del housing['Serial No.']"
   ]
  },
  {
   "cell_type": "code",
   "execution_count": 29,
   "metadata": {},
   "outputs": [
    {
     "data": {
      "text/html": [
       "<div>\n",
       "<style scoped>\n",
       "    .dataframe tbody tr th:only-of-type {\n",
       "        vertical-align: middle;\n",
       "    }\n",
       "\n",
       "    .dataframe tbody tr th {\n",
       "        vertical-align: top;\n",
       "    }\n",
       "\n",
       "    .dataframe thead th {\n",
       "        text-align: right;\n",
       "    }\n",
       "</style>\n",
       "<table border=\"1\" class=\"dataframe\">\n",
       "  <thead>\n",
       "    <tr style=\"text-align: right;\">\n",
       "      <th></th>\n",
       "      <th>GRE Score</th>\n",
       "      <th>TOEFL Score</th>\n",
       "      <th>University Rating</th>\n",
       "      <th>SOP</th>\n",
       "      <th>LOR</th>\n",
       "      <th>CGPA</th>\n",
       "      <th>Research</th>\n",
       "      <th>Chance of Admit</th>\n",
       "    </tr>\n",
       "  </thead>\n",
       "  <tbody>\n",
       "    <tr>\n",
       "      <th>0</th>\n",
       "      <td>337</td>\n",
       "      <td>118</td>\n",
       "      <td>4</td>\n",
       "      <td>4.5</td>\n",
       "      <td>4.5</td>\n",
       "      <td>9.65</td>\n",
       "      <td>1</td>\n",
       "      <td>0.92</td>\n",
       "    </tr>\n",
       "    <tr>\n",
       "      <th>1</th>\n",
       "      <td>324</td>\n",
       "      <td>107</td>\n",
       "      <td>4</td>\n",
       "      <td>4.0</td>\n",
       "      <td>4.5</td>\n",
       "      <td>8.87</td>\n",
       "      <td>1</td>\n",
       "      <td>0.76</td>\n",
       "    </tr>\n",
       "    <tr>\n",
       "      <th>2</th>\n",
       "      <td>316</td>\n",
       "      <td>104</td>\n",
       "      <td>3</td>\n",
       "      <td>3.0</td>\n",
       "      <td>3.5</td>\n",
       "      <td>8.00</td>\n",
       "      <td>1</td>\n",
       "      <td>0.72</td>\n",
       "    </tr>\n",
       "    <tr>\n",
       "      <th>3</th>\n",
       "      <td>322</td>\n",
       "      <td>110</td>\n",
       "      <td>3</td>\n",
       "      <td>3.5</td>\n",
       "      <td>2.5</td>\n",
       "      <td>8.67</td>\n",
       "      <td>1</td>\n",
       "      <td>0.80</td>\n",
       "    </tr>\n",
       "    <tr>\n",
       "      <th>4</th>\n",
       "      <td>314</td>\n",
       "      <td>103</td>\n",
       "      <td>2</td>\n",
       "      <td>2.0</td>\n",
       "      <td>3.0</td>\n",
       "      <td>8.21</td>\n",
       "      <td>0</td>\n",
       "      <td>0.65</td>\n",
       "    </tr>\n",
       "  </tbody>\n",
       "</table>\n",
       "</div>"
      ],
      "text/plain": [
       "   GRE Score  TOEFL Score  University Rating  SOP  LOR   CGPA  Research  \\\n",
       "0        337          118                  4  4.5   4.5  9.65         1   \n",
       "1        324          107                  4  4.0   4.5  8.87         1   \n",
       "2        316          104                  3  3.0   3.5  8.00         1   \n",
       "3        322          110                  3  3.5   2.5  8.67         1   \n",
       "4        314          103                  2  2.0   3.0  8.21         0   \n",
       "\n",
       "   Chance of Admit   \n",
       "0              0.92  \n",
       "1              0.76  \n",
       "2              0.72  \n",
       "3              0.80  \n",
       "4              0.65  "
      ]
     },
     "execution_count": 29,
     "metadata": {},
     "output_type": "execute_result"
    }
   ],
   "source": [
    "housing.head(5)"
   ]
  },
  {
   "cell_type": "code",
   "execution_count": 30,
   "metadata": {},
   "outputs": [
    {
     "name": "stderr",
     "output_type": "stream",
     "text": [
      "C:\\Users\\asus\\Anaconda3\\lib\\site-packages\\scipy\\stats\\stats.py:1713: FutureWarning: Using a non-tuple sequence for multidimensional indexing is deprecated; use `arr[tuple(seq)]` instead of `arr[seq]`. In the future this will be interpreted as an array index, `arr[np.array(seq)]`, which will result either in an error or a different result.\n",
      "  return np.add.reduce(sorted[indexer] * weights, axis=axis) / sumval\n"
     ]
    },
    {
     "data": {
      "image/png": "[encoded data removed]",
      "text/plain": [
       "<Figure size 1080x720 with 1 Axes>"
      ]
     },
     "metadata": {},
     "output_type": "display_data"
    }
   ],
   "source": [
    "sns.set(rc={'figure.figsize':(15,10)})\n",
    "sns.distplot(housing['Chance of Admit '], bins=50)\n",
    "plt.show()"
   ]
  },
  {
   "cell_type": "code",
   "execution_count": 31,
   "metadata": {},
   "outputs": [
    {
     "name": "stdout",
     "output_type": "stream",
     "text": [
      "column :  GRE Score\n",
      "max :  340\n",
      "min :  290\n",
      "average :  316.8075\n"
     ]
    },
    {
     "name": "stderr",
     "output_type": "stream",
     "text": [
      "C:\\Users\\asus\\Anaconda3\\lib\\site-packages\\ipykernel_launcher.py:13: SettingWithCopyWarning: \n",
      "A value is trying to be set on a copy of a slice from a DataFrame\n",
      "\n",
      "See the caveats in the documentation: http://pandas.pydata.org/pandas-docs/stable/indexing.html#indexing-view-versus-copy\n",
      "  del sys.path[0]\n"
     ]
    },
    {
     "name": "stdout",
     "output_type": "stream",
     "text": [
      "-----------------------------------\n",
      "column :  TOEFL Score\n",
      "max :  120\n",
      "min :  92\n",
      "average :  107.41\n",
      "-----------------------------------\n",
      "column :  University Rating\n",
      "max :  5\n",
      "min :  1\n",
      "average :  3.0875\n",
      "-----------------------------------\n",
      "column :  SOP\n",
      "max :  5.0\n",
      "min :  1.0\n",
      "average :  3.4\n",
      "-----------------------------------\n",
      "column :  LOR \n",
      "max :  5.0\n",
      "min :  1.0\n",
      "average :  3.4525\n",
      "-----------------------------------\n",
      "column :  CGPA\n",
      "max :  9.92\n",
      "min :  6.8\n",
      "average :  8.598924999999998\n",
      "-----------------------------------\n",
      "column :  Research\n",
      "max :  1\n",
      "min :  0\n",
      "average :  0.5475\n",
      "-----------------------------------\n",
      "column :  Chance of Admit \n",
      "max :  0.97\n",
      "min :  0.34\n",
      "average :  0.7243499999999996\n",
      "-----------------------------------\n"
     ]
    }
   ],
   "source": [
    "### START CODE HERE ### \n",
    "housing_normalized = housing\n",
    "for cols in housing:\n",
    "    print('column : ',cols)\n",
    "    Max = housing[cols].max()\n",
    "    print('max : ',Max)\n",
    "    Min = housing[cols].min()\n",
    "    print('min : ',Min)\n",
    "    Avg = housing[cols].mean()\n",
    "    print('average : ',Avg)\n",
    "    for i in range(len(housing)):\n",
    "        normalize = (housing[cols][i] - Avg)/(Max - Min)\n",
    "        housing_normalized[cols][i] = normalize\n",
    "    print('-----------------------------------')\n",
    "### END CODE HERE ###"
   ]
  },
  {
   "cell_type": "code",
   "execution_count": 32,
   "metadata": {},
   "outputs": [
    {
     "data": {
      "text/html": [
       "<div>\n",
       "<style scoped>\n",
       "    .dataframe tbody tr th:only-of-type {\n",
       "        vertical-align: middle;\n",
       "    }\n",
       "\n",
       "    .dataframe tbody tr th {\n",
       "        vertical-align: top;\n",
       "    }\n",
       "\n",
       "    .dataframe thead th {\n",
       "        text-align: right;\n",
       "    }\n",
       "</style>\n",
       "<table border=\"1\" class=\"dataframe\">\n",
       "  <thead>\n",
       "    <tr style=\"text-align: right;\">\n",
       "      <th></th>\n",
       "      <th>GRE Score</th>\n",
       "      <th>TOEFL Score</th>\n",
       "      <th>University Rating</th>\n",
       "      <th>SOP</th>\n",
       "      <th>LOR</th>\n",
       "      <th>CGPA</th>\n",
       "      <th>Research</th>\n",
       "      <th>Chance of Admit</th>\n",
       "    </tr>\n",
       "  </thead>\n",
       "  <tbody>\n",
       "    <tr>\n",
       "      <th>0</th>\n",
       "      <td>0</td>\n",
       "      <td>0</td>\n",
       "      <td>0</td>\n",
       "      <td>0.275</td>\n",
       "      <td>0.261875</td>\n",
       "      <td>0.336883</td>\n",
       "      <td>0</td>\n",
       "      <td>0.310556</td>\n",
       "    </tr>\n",
       "    <tr>\n",
       "      <th>1</th>\n",
       "      <td>0</td>\n",
       "      <td>0</td>\n",
       "      <td>0</td>\n",
       "      <td>0.150</td>\n",
       "      <td>0.261875</td>\n",
       "      <td>0.086883</td>\n",
       "      <td>0</td>\n",
       "      <td>0.056587</td>\n",
       "    </tr>\n",
       "    <tr>\n",
       "      <th>2</th>\n",
       "      <td>0</td>\n",
       "      <td>0</td>\n",
       "      <td>0</td>\n",
       "      <td>-0.100</td>\n",
       "      <td>0.011875</td>\n",
       "      <td>-0.191963</td>\n",
       "      <td>0</td>\n",
       "      <td>-0.006905</td>\n",
       "    </tr>\n",
       "    <tr>\n",
       "      <th>3</th>\n",
       "      <td>0</td>\n",
       "      <td>0</td>\n",
       "      <td>0</td>\n",
       "      <td>0.025</td>\n",
       "      <td>-0.238125</td>\n",
       "      <td>0.022780</td>\n",
       "      <td>0</td>\n",
       "      <td>0.120079</td>\n",
       "    </tr>\n",
       "    <tr>\n",
       "      <th>4</th>\n",
       "      <td>0</td>\n",
       "      <td>0</td>\n",
       "      <td>0</td>\n",
       "      <td>-0.350</td>\n",
       "      <td>-0.113125</td>\n",
       "      <td>-0.124655</td>\n",
       "      <td>0</td>\n",
       "      <td>-0.118016</td>\n",
       "    </tr>\n",
       "  </tbody>\n",
       "</table>\n",
       "</div>"
      ],
      "text/plain": [
       "   GRE Score  TOEFL Score  University Rating    SOP      LOR       CGPA  \\\n",
       "0          0            0                  0  0.275  0.261875  0.336883   \n",
       "1          0            0                  0  0.150  0.261875  0.086883   \n",
       "2          0            0                  0 -0.100  0.011875 -0.191963   \n",
       "3          0            0                  0  0.025 -0.238125  0.022780   \n",
       "4          0            0                  0 -0.350 -0.113125 -0.124655   \n",
       "\n",
       "   Research  Chance of Admit   \n",
       "0         0          0.310556  \n",
       "1         0          0.056587  \n",
       "2         0         -0.006905  \n",
       "3         0          0.120079  \n",
       "4         0         -0.118016  "
      ]
     },
     "execution_count": 32,
     "metadata": {},
     "output_type": "execute_result"
    }
   ],
   "source": [
    "housing_normalized.head(5)"
   ]
  },
  {
   "cell_type": "code",
   "execution_count": 33,
   "metadata": {},
   "outputs": [
    {
     "name": "stdout",
     "output_type": "stream",
     "text": [
      "dim of train_set_x(7, 350)\n",
      "dim of test_set_x(7, 50)\n",
      "dim of train_set_y(350, 1)\n",
      "dim of test_set_y(50, 1)\n"
     ]
    }
   ],
   "source": [
    "threshold = 350\n",
    "X = housing_normalized.iloc[:,0:7]\n",
    "Y = housing_normalized.iloc[:,7:]\n",
    "# train_set\n",
    "train_set_x = X[:threshold]\n",
    "train_set_y = Y[:threshold]\n",
    "# test_set\n",
    "test_set_x = X[threshold:]\n",
    "test_set_y = Y[threshold:]\n",
    "############################\n",
    "train_set_x = train_set_x.T.values\n",
    "test_set_x = test_set_x.T.values\n",
    "train_set_y = train_set_y.values\n",
    "test_set_y = test_set_y.values\n",
    "#############################\n",
    "print(\"dim of train_set_x\" + str(train_set_x.shape))\n",
    "print(\"dim of test_set_x\" + str(test_set_x.shape))\n",
    "print(\"dim of train_set_y\" + str(train_set_y.shape))\n",
    "print(\"dim of test_set_y\" + str(test_set_y.shape))"
   ]
  },
  {
   "cell_type": "code",
   "execution_count": 34,
   "metadata": {},
   "outputs": [
    {
     "data": {
      "text/plain": [
       "array([[ 0.        ,  0.        ,  0.        , ...,  0.        ,\n",
       "         0.        ,  0.        ],\n",
       "       [ 0.        ,  0.        ,  0.        , ...,  0.        ,\n",
       "         0.        ,  0.        ],\n",
       "       [ 0.        ,  0.        ,  0.        , ...,  0.        ,\n",
       "         0.        ,  0.        ],\n",
       "       ...,\n",
       "       [ 0.261875  ,  0.261875  ,  0.011875  , ..., -0.613125  ,\n",
       "        -0.363125  , -0.113125  ],\n",
       "       [ 0.33688301,  0.08688301, -0.19196314, ..., -0.4035016 ,\n",
       "        -0.43234776, -0.17914263],\n",
       "       [ 0.        ,  0.        ,  0.        , ...,  0.        ,\n",
       "         0.        ,  0.        ]])"
      ]
     },
     "execution_count": 34,
     "metadata": {},
     "output_type": "execute_result"
    }
   ],
   "source": [
    "train_set_x"
   ]
  },
  {
   "cell_type": "code",
   "execution_count": 35,
   "metadata": {},
   "outputs": [
    {
     "data": {
      "text/plain": [
       "array([[ 0.31055556],\n",
       "       [ 0.0565873 ],\n",
       "       [-0.00690476],\n",
       "       [ 0.12007937],\n",
       "       [-0.11801587],\n",
       "       [ 0.27880952],\n",
       "       [ 0.04071429],\n",
       "       [-0.07039683],\n",
       "       [-0.35611111],\n",
       "       [-0.43547619],\n",
       "       [-0.32436508],\n",
       "       [ 0.18357143],\n",
       "       [ 0.08833333],\n",
       "       [-0.16563492],\n",
       "       [-0.18150794],\n",
       "       [-0.29261905],\n",
       "       [-0.10214286],\n",
       "       [-0.11801587],\n",
       "       [-0.1497619 ],\n",
       "       [-0.16563492],\n",
       "       [-0.13388889],\n",
       "       [-0.03865079],\n",
       "       [ 0.34230159],\n",
       "       [ 0.3581746 ],\n",
       "       [ 0.38992063],\n",
       "       [ 0.34230159],\n",
       "       [ 0.0565873 ],\n",
       "       [-0.45134921],\n",
       "       [-0.41960317],\n",
       "       [-0.29261905],\n",
       "       [-0.11801587],\n",
       "       [ 0.02484127],\n",
       "       [ 0.29468254],\n",
       "       [ 0.27880952],\n",
       "       [ 0.34230159],\n",
       "       [ 0.24706349],\n",
       "       [-0.13388889],\n",
       "       [-0.22912698],\n",
       "       [-0.32436508],\n",
       "       [-0.38785714],\n",
       "       [-0.41960317],\n",
       "       [-0.37198413],\n",
       "       [-0.30849206],\n",
       "       [ 0.23119048],\n",
       "       [ 0.29468254],\n",
       "       [ 0.24706349],\n",
       "       [ 0.21531746],\n",
       "       [ 0.26293651],\n",
       "       [ 0.1518254 ],\n",
       "       [ 0.08833333],\n",
       "       [ 0.0565873 ],\n",
       "       [-0.26087302],\n",
       "       [ 0.08833333],\n",
       "       [-0.00690476],\n",
       "       [-0.03865079],\n",
       "       [-0.13388889],\n",
       "       [-0.13388889],\n",
       "       [-0.41960317],\n",
       "       [-0.57833333],\n",
       "       [-0.48309524],\n",
       "       [-0.38785714],\n",
       "       [-0.40373016],\n",
       "       [-0.29261905],\n",
       "       [-0.26087302],\n",
       "       [-0.32436508],\n",
       "       [-0.27674603],\n",
       "       [-0.18150794],\n",
       "       [-0.245     ],\n",
       "       [-0.07039683],\n",
       "       [ 0.08833333],\n",
       "       [ 0.34230159],\n",
       "       [ 0.37404762],\n",
       "       [ 0.32642857],\n",
       "       [ 0.18357143],\n",
       "       [ 0.02484127],\n",
       "       [-0.00690476],\n",
       "       [ 0.02484127],\n",
       "       [-0.13388889],\n",
       "       [-0.45134921],\n",
       "       [-0.41960317],\n",
       "       [-0.35611111],\n",
       "       [ 0.37404762],\n",
       "       [ 0.31055556],\n",
       "       [ 0.31055556],\n",
       "       [ 0.34230159],\n",
       "       [ 0.0565873 ],\n",
       "       [-0.00690476],\n",
       "       [-0.10214286],\n",
       "       [-0.13388889],\n",
       "       [ 0.02484127],\n",
       "       [-0.13388889],\n",
       "       [-0.5465873 ],\n",
       "       [-0.61007937],\n",
       "       [-0.45134921],\n",
       "       [-0.57833333],\n",
       "       [-0.48309524],\n",
       "       [-0.38785714],\n",
       "       [ 0.21531746],\n",
       "       [ 0.27880952],\n",
       "       [ 0.10420635],\n",
       "       [-0.02277778],\n",
       "       [-0.13388889],\n",
       "       [-0.16563492],\n",
       "       [-0.245     ],\n",
       "       [ 0.02484127],\n",
       "       [-0.05452381],\n",
       "       [ 0.23119048],\n",
       "       [ 0.29468254],\n",
       "       [ 0.32642857],\n",
       "       [-0.07039683],\n",
       "       [-0.18150794],\n",
       "       [-0.05452381],\n",
       "       [-0.16563492],\n",
       "       [-0.00690476],\n",
       "       [-0.21325397],\n",
       "       [-0.10214286],\n",
       "       [-0.26087302],\n",
       "       [-0.43547619],\n",
       "       [-0.40373016],\n",
       "       [-0.02277778],\n",
       "       [ 0.34230159],\n",
       "       [ 0.34230159],\n",
       "       [-0.245     ],\n",
       "       [-0.18150794],\n",
       "       [-0.245     ],\n",
       "       [-0.13388889],\n",
       "       [ 0.19944444],\n",
       "       [ 0.08833333],\n",
       "       [ 0.18357143],\n",
       "       [ 0.31055556],\n",
       "       [ 0.37404762],\n",
       "       [ 0.07246032],\n",
       "       [-0.02277778],\n",
       "       [ 0.10420635],\n",
       "       [ 0.26293651],\n",
       "       [ 0.1518254 ],\n",
       "       [ 0.0565873 ],\n",
       "       [-0.02277778],\n",
       "       [ 0.12007937],\n",
       "       [ 0.08833333],\n",
       "       [ 0.18357143],\n",
       "       [ 0.27880952],\n",
       "       [ 0.31055556],\n",
       "       [ 0.38992063],\n",
       "       [ 0.12007937],\n",
       "       [ 0.13595238],\n",
       "       [ 0.04071429],\n",
       "       [ 0.16769841],\n",
       "       [ 0.37404762],\n",
       "       [ 0.10420635],\n",
       "       [ 0.32642857],\n",
       "       [ 0.34230159],\n",
       "       [ 0.21531746],\n",
       "       [ 0.10420635],\n",
       "       [ 0.12007937],\n",
       "       [ 0.07246032],\n",
       "       [-0.03865079],\n",
       "       [-0.11801587],\n",
       "       [-0.18150794],\n",
       "       [-0.32436508],\n",
       "       [-0.245     ],\n",
       "       [-0.30849206],\n",
       "       [-0.08626984],\n",
       "       [-0.07039683],\n",
       "       [ 0.13595238],\n",
       "       [ 0.08833333],\n",
       "       [-0.11801587],\n",
       "       [-0.13388889],\n",
       "       [-0.13388889],\n",
       "       [-0.11801587],\n",
       "       [-0.07039683],\n",
       "       [ 0.26293651],\n",
       "       [ 0.21531746],\n",
       "       [ 0.26293651],\n",
       "       [ 0.23119048],\n",
       "       [ 0.19944444],\n",
       "       [ 0.27880952],\n",
       "       [ 0.1518254 ],\n",
       "       [-0.00690476],\n",
       "       [ 0.00896825],\n",
       "       [-0.02277778],\n",
       "       [-0.02277778],\n",
       "       [-0.07039683],\n",
       "       [ 0.04071429],\n",
       "       [-0.00690476],\n",
       "       [ 0.26293651],\n",
       "       [ 0.18357143],\n",
       "       [ 0.32642857],\n",
       "       [ 0.32642857],\n",
       "       [ 0.24706349],\n",
       "       [ 0.27880952],\n",
       "       [ 0.23119048],\n",
       "       [ 0.21531746],\n",
       "       [ 0.34230159],\n",
       "       [ 0.07246032],\n",
       "       [ 0.08833333],\n",
       "       [ 0.00896825],\n",
       "       [ 0.00896825],\n",
       "       [-0.03865079],\n",
       "       [-0.00690476],\n",
       "       [ 0.00896825],\n",
       "       [-0.00690476],\n",
       "       [ 0.38992063],\n",
       "       [ 0.38992063],\n",
       "       [-0.05452381],\n",
       "       [-0.245     ],\n",
       "       [-0.1497619 ],\n",
       "       [-0.10214286],\n",
       "       [-0.13388889],\n",
       "       [-0.07039683],\n",
       "       [ 0.10420635],\n",
       "       [ 0.1518254 ],\n",
       "       [ 0.3581746 ],\n",
       "       [ 0.37404762],\n",
       "       [ 0.34230159],\n",
       "       [ 0.32642857],\n",
       "       [ 0.29468254],\n",
       "       [ 0.19944444],\n",
       "       [ 0.18357143],\n",
       "       [ 0.02484127],\n",
       "       [ 0.0565873 ],\n",
       "       [ 0.04071429],\n",
       "       [ 0.0565873 ],\n",
       "       [-0.02277778],\n",
       "       [-0.08626984],\n",
       "       [-0.18150794],\n",
       "       [-0.1497619 ],\n",
       "       [-0.13388889],\n",
       "       [-0.02277778],\n",
       "       [ 0.1518254 ],\n",
       "       [ 0.00896825],\n",
       "       [ 0.02484127],\n",
       "       [-0.05452381],\n",
       "       [-0.13388889],\n",
       "       [ 0.29468254],\n",
       "       [ 0.24706349],\n",
       "       [ 0.19944444],\n",
       "       [ 0.21531746],\n",
       "       [-0.03865079],\n",
       "       [-0.21325397],\n",
       "       [-0.19738095],\n",
       "       [-0.11801587],\n",
       "       [-0.03865079],\n",
       "       [ 0.0565873 ],\n",
       "       [-0.1497619 ],\n",
       "       [ 0.13595238],\n",
       "       [-0.00690476],\n",
       "       [-0.02277778],\n",
       "       [ 0.12007937],\n",
       "       [ 0.07246032],\n",
       "       [ 0.02484127],\n",
       "       [-0.03865079],\n",
       "       [-0.02277778],\n",
       "       [ 0.32642857],\n",
       "       [ 0.19944444],\n",
       "       [ 0.10420635],\n",
       "       [ 0.0565873 ],\n",
       "       [ 0.08833333],\n",
       "       [ 0.07246032],\n",
       "       [ 0.27880952],\n",
       "       [ 0.23119048],\n",
       "       [-0.02277778],\n",
       "       [-0.03865079],\n",
       "       [-0.03865079],\n",
       "       [ 0.04071429],\n",
       "       [-0.02277778],\n",
       "       [-0.00690476],\n",
       "       [ 0.00896825],\n",
       "       [ 0.16769841],\n",
       "       [ 0.07246032],\n",
       "       [-0.00690476],\n",
       "       [-0.29261905],\n",
       "       [-0.37198413],\n",
       "       [-0.32436508],\n",
       "       [-0.22912698],\n",
       "       [ 0.08833333],\n",
       "       [ 0.26293651],\n",
       "       [-0.03865079],\n",
       "       [-0.10214286],\n",
       "       [-0.08626984],\n",
       "       [-0.07039683],\n",
       "       [ 0.12007937],\n",
       "       [ 0.13595238],\n",
       "       [ 0.12007937],\n",
       "       [ 0.34230159],\n",
       "       [ 0.32642857],\n",
       "       [ 0.31055556],\n",
       "       [ 0.26293651],\n",
       "       [ 0.1518254 ],\n",
       "       [ 0.10420635],\n",
       "       [-0.22912698],\n",
       "       [-0.26087302],\n",
       "       [-0.26087302],\n",
       "       [-0.13388889],\n",
       "       [-0.18150794],\n",
       "       [-0.07039683],\n",
       "       [ 0.0565873 ],\n",
       "       [ 0.21531746],\n",
       "       [ 0.27880952],\n",
       "       [-0.02277778],\n",
       "       [-0.16563492],\n",
       "       [-0.10214286],\n",
       "       [-0.11801587],\n",
       "       [ 0.00896825],\n",
       "       [-0.16563492],\n",
       "       [ 0.02484127],\n",
       "       [ 0.10420635],\n",
       "       [ 0.12007937],\n",
       "       [-0.05452381],\n",
       "       [-0.03865079],\n",
       "       [ 0.0565873 ],\n",
       "       [ 0.18357143],\n",
       "       [ 0.08833333],\n",
       "       [-0.08626984],\n",
       "       [-0.10214286],\n",
       "       [-0.11801587],\n",
       "       [-0.29261905],\n",
       "       [-0.22912698],\n",
       "       [ 0.10420635],\n",
       "       [ 0.12007937],\n",
       "       [ 0.04071429],\n",
       "       [ 0.00896825],\n",
       "       [-0.00690476],\n",
       "       [-0.16563492],\n",
       "       [-0.08626984],\n",
       "       [ 0.13595238],\n",
       "       [-0.1497619 ],\n",
       "       [-0.05452381],\n",
       "       [ 0.12007937],\n",
       "       [-0.46722222],\n",
       "       [ 0.12007937],\n",
       "       [ 0.00896825],\n",
       "       [ 0.04071429],\n",
       "       [-0.02277778],\n",
       "       [ 0.00896825],\n",
       "       [ 0.16769841],\n",
       "       [-0.00690476],\n",
       "       [ 0.34230159],\n",
       "       [ 0.13595238],\n",
       "       [ 0.13595238],\n",
       "       [ 0.04071429],\n",
       "       [ 0.10420635],\n",
       "       [-0.22912698],\n",
       "       [-0.21325397],\n",
       "       [-0.40373016],\n",
       "       [-0.37198413],\n",
       "       [-0.40373016],\n",
       "       [-0.48309524],\n",
       "       [-0.245     ],\n",
       "       [-0.16563492]])"
      ]
     },
     "execution_count": 35,
     "metadata": {},
     "output_type": "execute_result"
    }
   ],
   "source": [
    "train_set_y"
   ]
  },
  {
   "cell_type": "code",
   "execution_count": 36,
   "metadata": {},
   "outputs": [],
   "source": [
    "def initialize_with_zeros(dim):\n",
    "    \"\"\"\n",
    "    This function creates a matrix of zeros of data shape for w and initializes b to 0.\n",
    "    \n",
    "    Argument:\n",
    "    dim -- size of the w matrix we want \n",
    "    \n",
    "    Returns:\n",
    "    w -- initialized vector of shape (dim, 1)\n",
    "    b -- initialized scalar (corresponds to the bias)\n",
    "    \"\"\"\n",
    "    ### START CODE HERE \n",
    "    w = np.zeros((dim, 1))\n",
    "    b = 0\n",
    "    ### END CODE HERE ###\n",
    "    \n",
    "    return w, b"
   ]
  },
  {
   "cell_type": "code",
   "execution_count": 37,
   "metadata": {},
   "outputs": [],
   "source": [
    "def compute_cost_and_gradient(w, b, X, Y):\n",
    "    \"\"\"\n",
    "    Implement the cost function and its gradient for the propagation explained above\n",
    "\n",
    "    Arguments:\n",
    "    w -- weights\n",
    "    b -- bias, a scalar\n",
    "    X -- data\n",
    "    Y -- house prices\n",
    "\n",
    "    Return:\n",
    "    cost -- cost function for linear regression\n",
    "    dw -- gradient of the loss with respect to w, thus same shape as w\n",
    "    db -- gradient of the loss with respect to b, thus same shape as b\n",
    "    \n",
    "    \"\"\"\n",
    "    \n",
    "    m = X.shape[0]\n",
    "    n = Y.shape[0]\n",
    "    ### START CODE HERE \n",
    "    h = (np.matmul(w.transpose(),X))+ b\n",
    "    cost = (-1/m)*np.matmul((Y - h.transpose()),(Y - h.transpose()).transpose())\n",
    "\n",
    "    ### END CODE HERE ###\n",
    "    \n",
    "    ### START CODE HERE ### \n",
    "    dw = (-2/m)*(np.matmul(X,(Y - h.transpose())))\n",
    "    db = (-2/m)*(np.matmul(np.ones((1,n)),Y-h.transpose()))\n",
    "    ### END CODE HERE ###\n",
    "    grads = {\"dw\": dw,\n",
    "             \"db\": db}\n",
    "    \n",
    "    return grads, cost"
   ]
  },
  {
   "cell_type": "code",
   "execution_count": 38,
   "metadata": {},
   "outputs": [],
   "source": [
    "def optimize(w, b, X, Y, num_iterations, learning_rate, print_cost = False):\n",
    "    \"\"\"\n",
    "    This function optimizes w and b by running a gradient descent algorithm\n",
    "    \n",
    "    Arguments:\n",
    "    w -- weights\n",
    "    b -- bias, a scalar\n",
    "    X -- data of shape (num_px * num_px * 3, number of examples)\n",
    "    Y -- home price\n",
    "    num_iterations -- number of iterations of the optimization loop\n",
    "    learning_rate -- learning rate of the gradient descent update rule\n",
    "    print_cost -- True to print the loss every 100 steps\n",
    "    \n",
    "    Returns:\n",
    "    params -- dictionary containing the weights w and bias b\n",
    "    grads -- dictionary containing the gradients of the weights and bias with respect to the cost function\n",
    "    costs -- list of all the costs computed during the optimization, this will be used to plot the learning curve.\n",
    "    \n",
    "    Tips:\n",
    "    You basically need to write down two steps and iterate through them:\n",
    "        1) Calculate the cost and the gradient for the current parameters. Use compute_cost_and_gradient().\n",
    "        2) Update the parameters using gradient descent rule for w and b.\n",
    "    \"\"\"\n",
    "    costs = []\n",
    "    for i in range(num_iterations):\n",
    "        # Cost and gradient calculation\n",
    "        ### START CODE HERE ### \n",
    "        grads, cost = compute_cost_and_gradient(w, b, X, Y)\n",
    "        ### END CODE HERE ###\n",
    "        # Retrieve derivatives from grads\n",
    "        dw = grads[\"dw\"]\n",
    "        db = grads[\"db\"]\n",
    "        \n",
    "        # update weight\n",
    "        ### START CODE HERE ###\n",
    "        w = w - learning_rate*dw\n",
    "        b = b - learning_rate*db\n",
    "        ### END CODE HERE ###\n",
    "        # Record the costs\n",
    "        if i % 100 == 0:\n",
    "            costs.append(cost)\n",
    "        \n",
    "        # Print the cost every 100 training iterations\n",
    "        if print_cost and i % 100 == 0:\n",
    "            print (\"Cost after iteration %i: %f\" %(i, cost))\n",
    "            \n",
    "    params = {\"w\": w,\n",
    "              \"b\": b}\n",
    "    \n",
    "    grads = {\"dw\": dw,\n",
    "             \"db\": db}\n",
    "    \n",
    "    return params, grads, costs"
   ]
  },
  {
   "cell_type": "code",
   "execution_count": 39,
   "metadata": {},
   "outputs": [],
   "source": [
    "def predict(w, b, X):\n",
    "    \n",
    "    ### START CODE HERE ###\n",
    "    Y_prediction = (np.matmul(w.transpose(), X) + b)\n",
    "    ### END CODE HERE ###\n",
    "    return Y_prediction.T"
   ]
  },
  {
   "cell_type": "code",
   "execution_count": 40,
   "metadata": {},
   "outputs": [],
   "source": [
    "def model(X_train, Y_train, X_test, Y_test, num_iterations = 2000, learning_rate = 0.5, print_cost = False):\n",
    "    \"\"\"\n",
    "    Builds the  regression model by calling the function you've implemented previously\n",
    "    \n",
    "    Arguments:\n",
    "    X_train -- training set represented by a numpy array of shape (num_px * num_px * 3, m_train)\n",
    "    Y_train -- training labels represented by a numpy array (vector) of shape (1, m_train)\n",
    "    X_test -- test set represented by a numpy array of shape (num_px * num_px * 3, m_test)\n",
    "    Y_test -- test labels represented by a numpy array (vector) of shape (1, m_test)\n",
    "    num_iterations -- hyperparameter representing the number of iterations to optimize the parameters\n",
    "    learning_rate -- hyperparameter representing the learning rate used in the update rule of optimize()\n",
    "    print_cost -- Set to true to print the cost every 100 iterations\n",
    "    \n",
    "    Returns:\n",
    "    d -- dictionary containing information about the model.\n",
    "    \"\"\"\n",
    "    \n",
    "    ### START CODE HERE ###\n",
    "    \n",
    "    # initialize parameters with zerodds\n",
    "    dim = X_train.shape[0]\n",
    "    w, b = initialize_with_zeros(dim)\n",
    "    \n",
    "    # Gradient descent\n",
    "    parameters, grads, costs = optimize(w, b, X_train, Y_train, num_iterations, learning_rate, print_cost = False)\n",
    "    \n",
    "    # Retrieve parameters w and b from dictionary \"parameters\"\n",
    "    w = parameters[\"w\"]\n",
    "    b = parameters[\"b\"]\n",
    "    \n",
    "    # Predict test/train set examples\n",
    "    Y_prediction_test = predict(w, b, X_test)\n",
    "    Y_prediction_train = predict(w, b, X_train)\n",
    "    ### END CODE HERE ###\n",
    "    print(\"Y_train \" + str(Y_train.shape))\n",
    "    print(\"Y_prediction_train \" + str(Y_prediction_train.shape))\n",
    "    # Print train/test Errors\n",
    "    print(\"train accuracy: {} %\".format(100 - np.mean(np.abs(Y_prediction_train - Y_train)) * 100))\n",
    "    print(\"test accuracy: {} %\".format(100 - np.mean(np.abs(Y_prediction_test - Y_test)) * 100))\n",
    "    \n",
    "    d = {\"costs\": costs,\n",
    "         \"Y_prediction_test\": Y_prediction_test, \n",
    "         \"Y_prediction_train\" : Y_prediction_train, \n",
    "         \"w\" : w, \n",
    "         \"b\" : b,\n",
    "         \"learning_rate\" : learning_rate,\n",
    "         \"num_iterations\": num_iterations}\n",
    "    \n",
    "    return d    "
   ]
  },
  {
   "cell_type": "code",
   "execution_count": 41,
   "metadata": {},
   "outputs": [
    {
     "name": "stdout",
     "output_type": "stream",
     "text": [
      "Y_train (350, 1)\n",
      "Y_prediction_train (350, 1)\n",
      "train accuracy: 92.27503286561416 %\n",
      "test accuracy: 91.47705086764267 %\n"
     ]
    }
   ],
   "source": [
    "d = model(train_set_x, train_set_y, test_set_x, test_set_y, num_iterations = 1000, learning_rate = 0.005, print_cost = True)"
   ]
  },
  {
   "cell_type": "code",
   "execution_count": 42,
   "metadata": {},
   "outputs": [
    {
     "data": {
      "text/plain": [
       "array([[0.        ],\n",
       "       [0.        ],\n",
       "       [0.        ],\n",
       "       [0.02524058],\n",
       "       [0.15722352],\n",
       "       [0.87853869],\n",
       "       [0.        ]])"
      ]
     },
     "execution_count": 42,
     "metadata": {},
     "output_type": "execute_result"
    }
   ],
   "source": [
    "d['w']"
   ]
  },
  {
   "cell_type": "code",
   "execution_count": 43,
   "metadata": {},
   "outputs": [
    {
     "data": {
      "text/plain": [
       "array([[-0.00252642]])"
      ]
     },
     "execution_count": 43,
     "metadata": {},
     "output_type": "execute_result"
    }
   ],
   "source": [
    "d['b']"
   ]
  },
  {
   "cell_type": "code",
   "execution_count": 44,
   "metadata": {},
   "outputs": [
    {
     "data": {
      "text/plain": [
       "<matplotlib.axes._subplots.AxesSubplot at 0x2347c7d7550>"
      ]
     },
     "execution_count": 44,
     "metadata": {},
     "output_type": "execute_result"
    },
    {
     "data": {
      "image/png": "[encoded data removed]",
      "text/plain": [
       "<Figure size 1080x720 with 2 Axes>"
      ]
     },
     "metadata": {},
     "output_type": "display_data"
    }
   ],
   "source": [
    "correlation_matrix = housing.corr().round(3)\n",
    "# annot = True to print the values inside the square\n",
    "sns.heatmap(data=correlation_matrix ,center=0 , linewidths=.7, annot=True)"
   ]
  },
  {
   "cell_type": "code",
   "execution_count": 45,
   "metadata": {},
   "outputs": [],
   "source": [
    "X = pd.DataFrame(np.c_[housing['SOP'],housing['CGPA']], columns = ['SOP','CGPA'])\n",
    "Y = housing['Chance of Admit ']"
   ]
  },
  {
   "cell_type": "code",
   "execution_count": 46,
   "metadata": {},
   "outputs": [
    {
     "data": {
      "text/html": [
       "<div>\n",
       "<style scoped>\n",
       "    .dataframe tbody tr th:only-of-type {\n",
       "        vertical-align: middle;\n",
       "    }\n",
       "\n",
       "    .dataframe tbody tr th {\n",
       "        vertical-align: top;\n",
       "    }\n",
       "\n",
       "    .dataframe thead th {\n",
       "        text-align: right;\n",
       "    }\n",
       "</style>\n",
       "<table border=\"1\" class=\"dataframe\">\n",
       "  <thead>\n",
       "    <tr style=\"text-align: right;\">\n",
       "      <th></th>\n",
       "      <th>SOP</th>\n",
       "      <th>CGPA</th>\n",
       "    </tr>\n",
       "  </thead>\n",
       "  <tbody>\n",
       "    <tr>\n",
       "      <th>0</th>\n",
       "      <td>0.275</td>\n",
       "      <td>0.336883</td>\n",
       "    </tr>\n",
       "    <tr>\n",
       "      <th>1</th>\n",
       "      <td>0.150</td>\n",
       "      <td>0.086883</td>\n",
       "    </tr>\n",
       "    <tr>\n",
       "      <th>2</th>\n",
       "      <td>-0.100</td>\n",
       "      <td>-0.191963</td>\n",
       "    </tr>\n",
       "    <tr>\n",
       "      <th>3</th>\n",
       "      <td>0.025</td>\n",
       "      <td>0.022780</td>\n",
       "    </tr>\n",
       "    <tr>\n",
       "      <th>4</th>\n",
       "      <td>-0.350</td>\n",
       "      <td>-0.124655</td>\n",
       "    </tr>\n",
       "  </tbody>\n",
       "</table>\n",
       "</div>"
      ],
      "text/plain": [
       "     SOP      CGPA\n",
       "0  0.275  0.336883\n",
       "1  0.150  0.086883\n",
       "2 -0.100 -0.191963\n",
       "3  0.025  0.022780\n",
       "4 -0.350 -0.124655"
      ]
     },
     "execution_count": 46,
     "metadata": {},
     "output_type": "execute_result"
    }
   ],
   "source": [
    "X.head(5)"
   ]
  },
  {
   "cell_type": "code",
   "execution_count": 47,
   "metadata": {},
   "outputs": [
    {
     "data": {
      "text/plain": [
       "0    0.310556\n",
       "1    0.056587\n",
       "2   -0.006905\n",
       "3    0.120079\n",
       "4   -0.118016\n",
       "Name: Chance of Admit , dtype: float64"
      ]
     },
     "execution_count": 47,
     "metadata": {},
     "output_type": "execute_result"
    }
   ],
   "source": [
    "Y.head(5)"
   ]
  },
  {
   "cell_type": "code",
   "execution_count": 48,
   "metadata": {},
   "outputs": [
    {
     "name": "stdout",
     "output_type": "stream",
     "text": [
      "(320, 2)\n",
      "(80, 2)\n",
      "(320,)\n",
      "(80,)\n"
     ]
    }
   ],
   "source": [
    "X_train, X_test, Y_train, Y_test = train_test_split(X, Y, test_size = 0.2, random_state=5)\n",
    "print(X_train.shape)\n",
    "print(X_test.shape)\n",
    "print(Y_train.shape)\n",
    "print(Y_test.shape)"
   ]
  },
  {
   "cell_type": "code",
   "execution_count": 49,
   "metadata": {},
   "outputs": [
    {
     "name": "stdout",
     "output_type": "stream",
     "text": [
      "-0.0042620232150852 [0.06961003 0.99624973]\n"
     ]
    }
   ],
   "source": [
    "lin_model = LinearRegression()\n",
    "lin_model.fit(X_train, Y_train)\n",
    "print(lin_model.intercept_,lin_model.coef_)"
   ]
  },
  {
   "cell_type": "code",
   "execution_count": 50,
   "metadata": {},
   "outputs": [
    {
     "name": "stdout",
     "output_type": "stream",
     "text": [
      "70.76529809176695 %\n"
     ]
    }
   ],
   "source": [
    "accuracy = lin_model.score(X_test,Y_test)\n",
    "print(accuracy*100,'%')"
   ]
  },
  {
   "cell_type": "code",
   "execution_count": 51,
   "metadata": {},
   "outputs": [
    {
     "name": "stdout",
     "output_type": "stream",
     "text": [
      "77.54853486490056 %\n"
     ]
    }
   ],
   "source": [
    "accuracy = lin_model.score(X_train,Y_train)\n",
    "print(accuracy*100,'%')"
   ]
  },
  {
   "cell_type": "code",
   "execution_count": null,
   "metadata": {},
   "outputs": [],
   "source": []
  }
 ],
 "metadata": {
  "kernelspec": {
   "display_name": "Python 3",
   "language": "python",
   "name": "python3"
  },
  "language_info": {
   "codemirror_mode": {
    "name": "ipython",
    "version": 3
   },
   "file_extension": ".py",
   "mimetype": "text/x-python",
   "name": "python",
   "nbconvert_exporter": "python",
   "pygments_lexer": "ipython3",
   "version": "3.6.7"
  },
  "latex_envs": {
   "LaTeX_envs_menu_present": true,
   "autoclose": true,
   "autocomplete": true,
   "bibliofile": "biblio.bib",
   "cite_by": "apalike",
   "current_citInitial": 1,
   "eqLabelWithNumbers": true,
   "eqNumInitial": 1,
   "hotkeys": {
    "equation": "Ctrl-E",
    "itemize": "Ctrl-I"
   },
   "labels_anchors": false,
   "latex_user_defs": false,
   "report_style_numbering": true,
   "user_envs_cfg": true
  },
  "varInspector": {
   "cols": {
    "lenName": 16,
    "lenType": 16,
    "lenVar": 40
   },
   "kernels_config": {
    "python": {
     "delete_cmd_postfix": "",
     "delete_cmd_prefix": "del ",
     "library": "var_list.py",
     "varRefreshCmd": "print(var_dic_list())"
    },
    "r": {
     "delete_cmd_postfix": ") ",
     "delete_cmd_prefix": "rm(",
     "library": "var_list.r",
     "varRefreshCmd": "cat(var_dic_list()) "
    }
   },
   "types_to_exclude": [
    "module",
    "function",
    "builtin_function_or_method",
    "instance",
    "_Feature"
   ],
   "window_display": false
  }
 },
 "nbformat": 4,
 "nbformat_minor": 2
}
